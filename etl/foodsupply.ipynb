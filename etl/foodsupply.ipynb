{
 "cells": [
  {
   "cell_type": "code",
   "execution_count": 1,
   "metadata": {
    "collapsed": true
   },
   "outputs": [],
   "source": [
    "import pandas as pd\n",
    "import numpy as np\n",
    "import os\n",
    "\n",
    "from ddf_utils.str import to_concept_id\n",
    "from ddf_utils.index import create_index_file"
   ]
  },
  {
   "cell_type": "code",
   "execution_count": 2,
   "metadata": {
    "collapsed": true
   },
   "outputs": [],
   "source": [
    "source = 'source/FoodBalanceSheets_E_All_Data_(Norm).zip'"
   ]
  },
  {
   "cell_type": "code",
   "execution_count": 4,
   "metadata": {
    "collapsed": false
   },
   "outputs": [],
   "source": [
    "data = pd.read_csv(source, encoding='latin-1')"
   ]
  },
  {
   "cell_type": "code",
   "execution_count": 5,
   "metadata": {
    "collapsed": false
   },
   "outputs": [
    {
     "data": {
      "text/html": [
       "<div>\n",
       "<table border=\"1\" class=\"dataframe\">\n",
       "  <thead>\n",
       "    <tr style=\"text-align: right;\">\n",
       "      <th></th>\n",
       "      <th>Country Code</th>\n",
       "      <th>Country</th>\n",
       "      <th>Item Code</th>\n",
       "      <th>Item</th>\n",
       "      <th>Element Code</th>\n",
       "      <th>Element</th>\n",
       "      <th>Year Code</th>\n",
       "      <th>Year</th>\n",
       "      <th>Unit</th>\n",
       "      <th>Value</th>\n",
       "      <th>Flag</th>\n",
       "    </tr>\n",
       "  </thead>\n",
       "  <tbody>\n",
       "    <tr>\n",
       "      <th>0</th>\n",
       "      <td>351</td>\n",
       "      <td>China</td>\n",
       "      <td>2501</td>\n",
       "      <td>Population</td>\n",
       "      <td>511</td>\n",
       "      <td>Total Population - Both sexes</td>\n",
       "      <td>1961</td>\n",
       "      <td>1961</td>\n",
       "      <td>1000</td>\n",
       "      <td>675173.0</td>\n",
       "      <td>A</td>\n",
       "    </tr>\n",
       "    <tr>\n",
       "      <th>1</th>\n",
       "      <td>351</td>\n",
       "      <td>China</td>\n",
       "      <td>2501</td>\n",
       "      <td>Population</td>\n",
       "      <td>511</td>\n",
       "      <td>Total Population - Both sexes</td>\n",
       "      <td>1962</td>\n",
       "      <td>1962</td>\n",
       "      <td>1000</td>\n",
       "      <td>686277.0</td>\n",
       "      <td>A</td>\n",
       "    </tr>\n",
       "    <tr>\n",
       "      <th>2</th>\n",
       "      <td>351</td>\n",
       "      <td>China</td>\n",
       "      <td>2501</td>\n",
       "      <td>Population</td>\n",
       "      <td>511</td>\n",
       "      <td>Total Population - Both sexes</td>\n",
       "      <td>1963</td>\n",
       "      <td>1963</td>\n",
       "      <td>1000</td>\n",
       "      <td>698324.0</td>\n",
       "      <td>A</td>\n",
       "    </tr>\n",
       "    <tr>\n",
       "      <th>3</th>\n",
       "      <td>351</td>\n",
       "      <td>China</td>\n",
       "      <td>2501</td>\n",
       "      <td>Population</td>\n",
       "      <td>511</td>\n",
       "      <td>Total Population - Both sexes</td>\n",
       "      <td>1964</td>\n",
       "      <td>1964</td>\n",
       "      <td>1000</td>\n",
       "      <td>712071.0</td>\n",
       "      <td>A</td>\n",
       "    </tr>\n",
       "    <tr>\n",
       "      <th>4</th>\n",
       "      <td>351</td>\n",
       "      <td>China</td>\n",
       "      <td>2501</td>\n",
       "      <td>Population</td>\n",
       "      <td>511</td>\n",
       "      <td>Total Population - Both sexes</td>\n",
       "      <td>1965</td>\n",
       "      <td>1965</td>\n",
       "      <td>1000</td>\n",
       "      <td>728010.0</td>\n",
       "      <td>A</td>\n",
       "    </tr>\n",
       "  </tbody>\n",
       "</table>\n",
       "</div>"
      ],
      "text/plain": [
       "   Country Code Country  Item Code        Item  Element Code  \\\n",
       "0           351   China       2501  Population           511   \n",
       "1           351   China       2501  Population           511   \n",
       "2           351   China       2501  Population           511   \n",
       "3           351   China       2501  Population           511   \n",
       "4           351   China       2501  Population           511   \n",
       "\n",
       "                         Element  Year Code  Year  Unit     Value Flag  \n",
       "0  Total Population - Both sexes       1961  1961  1000  675173.0    A  \n",
       "1  Total Population - Both sexes       1962  1962  1000  686277.0    A  \n",
       "2  Total Population - Both sexes       1963  1963  1000  698324.0    A  \n",
       "3  Total Population - Both sexes       1964  1964  1000  712071.0    A  \n",
       "4  Total Population - Both sexes       1965  1965  1000  728010.0    A  "
      ]
     },
     "execution_count": 5,
     "metadata": {},
     "output_type": "execute_result"
    }
   ],
   "source": [
    "data.head()"
   ]
  },
  {
   "cell_type": "code",
   "execution_count": 6,
   "metadata": {
    "collapsed": false
   },
   "outputs": [
    {
     "data": {
      "text/plain": [
       "array(['Total Population - Both sexes', 'Production', 'Import Quantity',\n",
       "       'Stock Variation', 'Export Quantity', 'Domestic supply quantity',\n",
       "       'Feed', 'Seed', 'Waste', 'Processing', 'Other uses', 'Food',\n",
       "       'Food supply quantity (kg/capita/yr)',\n",
       "       'Food supply (kcal/capita/day)',\n",
       "       'Protein supply quantity (g/capita/day)',\n",
       "       'Fat supply quantity (g/capita/day)'], dtype=object)"
      ]
     },
     "execution_count": 6,
     "metadata": {},
     "output_type": "execute_result"
    }
   ],
   "source": [
    "data.Element.unique()"
   ]
  },
  {
   "cell_type": "code",
   "execution_count": 32,
   "metadata": {
    "collapsed": true
   },
   "outputs": [],
   "source": [
    "data['concept_name'] = data['Item'] + ': ' + data['Element']"
   ]
  },
  {
   "cell_type": "code",
   "execution_count": null,
   "metadata": {
    "collapsed": true
   },
   "outputs": [],
   "source": []
  },
  {
   "cell_type": "code",
   "execution_count": 35,
   "metadata": {
    "collapsed": true
   },
   "outputs": [],
   "source": [
    "# country"
   ]
  },
  {
   "cell_type": "code",
   "execution_count": 38,
   "metadata": {
    "collapsed": true
   },
   "outputs": [],
   "source": [
    "country = data[['Country Code', 'Country']].drop_duplicates().copy()"
   ]
  },
  {
   "cell_type": "code",
   "execution_count": 39,
   "metadata": {
    "collapsed": false
   },
   "outputs": [],
   "source": [
    "country.columns = ['country', 'name']"
   ]
  },
  {
   "cell_type": "code",
   "execution_count": 41,
   "metadata": {
    "collapsed": false
   },
   "outputs": [],
   "source": [
    "country.to_csv('../ddf--entities--country.csv', index=False)"
   ]
  },
  {
   "cell_type": "code",
   "execution_count": null,
   "metadata": {
    "collapsed": true
   },
   "outputs": [],
   "source": []
  },
  {
   "cell_type": "code",
   "execution_count": null,
   "metadata": {
    "collapsed": true
   },
   "outputs": [],
   "source": [
    "# items"
   ]
  },
  {
   "cell_type": "code",
   "execution_count": 60,
   "metadata": {
    "collapsed": true
   },
   "outputs": [],
   "source": [
    "item = data[['Item Code', 'Item']].drop_duplicates().copy()"
   ]
  },
  {
   "cell_type": "code",
   "execution_count": 61,
   "metadata": {
    "collapsed": true
   },
   "outputs": [],
   "source": [
    "item.columns = ['item', 'name']"
   ]
  },
  {
   "cell_type": "code",
   "execution_count": 65,
   "metadata": {
    "collapsed": false
   },
   "outputs": [
    {
     "data": {
      "text/html": [
       "<div>\n",
       "<table border=\"1\" class=\"dataframe\">\n",
       "  <thead>\n",
       "    <tr style=\"text-align: right;\">\n",
       "      <th></th>\n",
       "      <th>item</th>\n",
       "      <th>name</th>\n",
       "    </tr>\n",
       "  </thead>\n",
       "  <tbody>\n",
       "    <tr>\n",
       "      <th>59307</th>\n",
       "      <td>2901</td>\n",
       "      <td>Grand Total</td>\n",
       "    </tr>\n",
       "  </tbody>\n",
       "</table>\n",
       "</div>"
      ],
      "text/plain": [
       "       item         name\n",
       "59307  2901  Grand Total"
      ]
     },
     "execution_count": 65,
     "metadata": {},
     "output_type": "execute_result"
    }
   ],
   "source": [
    "item[item['name'].str.contains('Total')]"
   ]
  },
  {
   "cell_type": "code",
   "execution_count": 83,
   "metadata": {
    "collapsed": true
   },
   "outputs": [],
   "source": [
    "item.to_csv('../ddf--entities--item.csv', index=False)"
   ]
  },
  {
   "cell_type": "code",
   "execution_count": null,
   "metadata": {
    "collapsed": true
   },
   "outputs": [],
   "source": []
  },
  {
   "cell_type": "code",
   "execution_count": null,
   "metadata": {
    "collapsed": true
   },
   "outputs": [],
   "source": []
  },
  {
   "cell_type": "code",
   "execution_count": 42,
   "metadata": {
    "collapsed": true
   },
   "outputs": [],
   "source": [
    "# concepts"
   ]
  },
  {
   "cell_type": "code",
   "execution_count": 68,
   "metadata": {
    "collapsed": false
   },
   "outputs": [],
   "source": [
    "concs = data['Element'].unique()"
   ]
  },
  {
   "cell_type": "code",
   "execution_count": null,
   "metadata": {
    "collapsed": true
   },
   "outputs": [],
   "source": []
  },
  {
   "cell_type": "code",
   "execution_count": 69,
   "metadata": {
    "collapsed": true
   },
   "outputs": [],
   "source": [
    "cdf = pd.DataFrame([],columns=['concept', 'name', 'concept_type'])"
   ]
  },
  {
   "cell_type": "code",
   "execution_count": 70,
   "metadata": {
    "collapsed": true
   },
   "outputs": [],
   "source": [
    "cdf['name'] = ['Name', 'Country', 'Item', 'Year', *concs] "
   ]
  },
  {
   "cell_type": "code",
   "execution_count": 71,
   "metadata": {
    "collapsed": false
   },
   "outputs": [],
   "source": [
    "cdf['concept'] = cdf['name'].map(to_concept_id)"
   ]
  },
  {
   "cell_type": "code",
   "execution_count": 72,
   "metadata": {
    "collapsed": false
   },
   "outputs": [],
   "source": [
    "cdf.concept_type = 'measure'\n",
    "\n",
    "cdf.loc[0, 'concept_type'] = 'string'\n",
    "cdf.loc[1, 'concept_type'] = 'entity_domain'\n",
    "cdf.loc[2, 'concept_type'] = 'entity_domain'\n",
    "cdf.loc[3, 'concept_type'] = 'time'"
   ]
  },
  {
   "cell_type": "code",
   "execution_count": 73,
   "metadata": {
    "collapsed": false
   },
   "outputs": [],
   "source": [
    "cdf.to_csv('../ddf--concepts.csv', index=False)"
   ]
  },
  {
   "cell_type": "code",
   "execution_count": 74,
   "metadata": {
    "collapsed": false
   },
   "outputs": [
    {
     "data": {
      "text/html": [
       "<div>\n",
       "<table border=\"1\" class=\"dataframe\">\n",
       "  <thead>\n",
       "    <tr style=\"text-align: right;\">\n",
       "      <th></th>\n",
       "      <th>concept</th>\n",
       "      <th>name</th>\n",
       "      <th>concept_type</th>\n",
       "    </tr>\n",
       "  </thead>\n",
       "  <tbody>\n",
       "    <tr>\n",
       "      <th>0</th>\n",
       "      <td>name</td>\n",
       "      <td>Name</td>\n",
       "      <td>string</td>\n",
       "    </tr>\n",
       "    <tr>\n",
       "      <th>1</th>\n",
       "      <td>country</td>\n",
       "      <td>Country</td>\n",
       "      <td>entity_domain</td>\n",
       "    </tr>\n",
       "    <tr>\n",
       "      <th>2</th>\n",
       "      <td>item</td>\n",
       "      <td>Item</td>\n",
       "      <td>entity_domain</td>\n",
       "    </tr>\n",
       "    <tr>\n",
       "      <th>3</th>\n",
       "      <td>year</td>\n",
       "      <td>Year</td>\n",
       "      <td>time</td>\n",
       "    </tr>\n",
       "    <tr>\n",
       "      <th>4</th>\n",
       "      <td>total_population_both_sexes</td>\n",
       "      <td>Total Population - Both sexes</td>\n",
       "      <td>measure</td>\n",
       "    </tr>\n",
       "    <tr>\n",
       "      <th>5</th>\n",
       "      <td>production</td>\n",
       "      <td>Production</td>\n",
       "      <td>measure</td>\n",
       "    </tr>\n",
       "    <tr>\n",
       "      <th>6</th>\n",
       "      <td>import_quantity</td>\n",
       "      <td>Import Quantity</td>\n",
       "      <td>measure</td>\n",
       "    </tr>\n",
       "    <tr>\n",
       "      <th>7</th>\n",
       "      <td>stock_variation</td>\n",
       "      <td>Stock Variation</td>\n",
       "      <td>measure</td>\n",
       "    </tr>\n",
       "    <tr>\n",
       "      <th>8</th>\n",
       "      <td>export_quantity</td>\n",
       "      <td>Export Quantity</td>\n",
       "      <td>measure</td>\n",
       "    </tr>\n",
       "    <tr>\n",
       "      <th>9</th>\n",
       "      <td>domestic_supply_quantity</td>\n",
       "      <td>Domestic supply quantity</td>\n",
       "      <td>measure</td>\n",
       "    </tr>\n",
       "    <tr>\n",
       "      <th>10</th>\n",
       "      <td>feed</td>\n",
       "      <td>Feed</td>\n",
       "      <td>measure</td>\n",
       "    </tr>\n",
       "    <tr>\n",
       "      <th>11</th>\n",
       "      <td>seed</td>\n",
       "      <td>Seed</td>\n",
       "      <td>measure</td>\n",
       "    </tr>\n",
       "    <tr>\n",
       "      <th>12</th>\n",
       "      <td>waste</td>\n",
       "      <td>Waste</td>\n",
       "      <td>measure</td>\n",
       "    </tr>\n",
       "    <tr>\n",
       "      <th>13</th>\n",
       "      <td>processing</td>\n",
       "      <td>Processing</td>\n",
       "      <td>measure</td>\n",
       "    </tr>\n",
       "    <tr>\n",
       "      <th>14</th>\n",
       "      <td>other_uses</td>\n",
       "      <td>Other uses</td>\n",
       "      <td>measure</td>\n",
       "    </tr>\n",
       "    <tr>\n",
       "      <th>15</th>\n",
       "      <td>food</td>\n",
       "      <td>Food</td>\n",
       "      <td>measure</td>\n",
       "    </tr>\n",
       "    <tr>\n",
       "      <th>16</th>\n",
       "      <td>food_supply_quantity_kg_capita_yr</td>\n",
       "      <td>Food supply quantity (kg/capita/yr)</td>\n",
       "      <td>measure</td>\n",
       "    </tr>\n",
       "    <tr>\n",
       "      <th>17</th>\n",
       "      <td>food_supply_kcal_capita_day</td>\n",
       "      <td>Food supply (kcal/capita/day)</td>\n",
       "      <td>measure</td>\n",
       "    </tr>\n",
       "    <tr>\n",
       "      <th>18</th>\n",
       "      <td>protein_supply_quantity_g_capita_day</td>\n",
       "      <td>Protein supply quantity (g/capita/day)</td>\n",
       "      <td>measure</td>\n",
       "    </tr>\n",
       "    <tr>\n",
       "      <th>19</th>\n",
       "      <td>fat_supply_quantity_g_capita_day</td>\n",
       "      <td>Fat supply quantity (g/capita/day)</td>\n",
       "      <td>measure</td>\n",
       "    </tr>\n",
       "  </tbody>\n",
       "</table>\n",
       "</div>"
      ],
      "text/plain": [
       "                                 concept  \\\n",
       "0                                   name   \n",
       "1                                country   \n",
       "2                                   item   \n",
       "3                                   year   \n",
       "4            total_population_both_sexes   \n",
       "5                             production   \n",
       "6                        import_quantity   \n",
       "7                        stock_variation   \n",
       "8                        export_quantity   \n",
       "9               domestic_supply_quantity   \n",
       "10                                  feed   \n",
       "11                                  seed   \n",
       "12                                 waste   \n",
       "13                            processing   \n",
       "14                            other_uses   \n",
       "15                                  food   \n",
       "16     food_supply_quantity_kg_capita_yr   \n",
       "17           food_supply_kcal_capita_day   \n",
       "18  protein_supply_quantity_g_capita_day   \n",
       "19      fat_supply_quantity_g_capita_day   \n",
       "\n",
       "                                      name   concept_type  \n",
       "0                                     Name         string  \n",
       "1                                  Country  entity_domain  \n",
       "2                                     Item  entity_domain  \n",
       "3                                     Year           time  \n",
       "4            Total Population - Both sexes        measure  \n",
       "5                               Production        measure  \n",
       "6                          Import Quantity        measure  \n",
       "7                          Stock Variation        measure  \n",
       "8                          Export Quantity        measure  \n",
       "9                 Domestic supply quantity        measure  \n",
       "10                                    Feed        measure  \n",
       "11                                    Seed        measure  \n",
       "12                                   Waste        measure  \n",
       "13                              Processing        measure  \n",
       "14                              Other uses        measure  \n",
       "15                                    Food        measure  \n",
       "16     Food supply quantity (kg/capita/yr)        measure  \n",
       "17           Food supply (kcal/capita/day)        measure  \n",
       "18  Protein supply quantity (g/capita/day)        measure  \n",
       "19      Fat supply quantity (g/capita/day)        measure  "
      ]
     },
     "execution_count": 74,
     "metadata": {},
     "output_type": "execute_result"
    }
   ],
   "source": [
    "cdf"
   ]
  },
  {
   "cell_type": "code",
   "execution_count": null,
   "metadata": {
    "collapsed": true
   },
   "outputs": [],
   "source": []
  },
  {
   "cell_type": "code",
   "execution_count": null,
   "metadata": {
    "collapsed": true
   },
   "outputs": [],
   "source": []
  },
  {
   "cell_type": "code",
   "execution_count": 76,
   "metadata": {
    "collapsed": false
   },
   "outputs": [],
   "source": [
    "data_ = data[['Country Code', 'Item Code', 'Element', 'Year Code', 'Value']]"
   ]
  },
  {
   "cell_type": "code",
   "execution_count": 78,
   "metadata": {
    "collapsed": false
   },
   "outputs": [],
   "source": [
    "gs = data_.groupby('Element').groups"
   ]
  },
  {
   "cell_type": "code",
   "execution_count": 82,
   "metadata": {
    "collapsed": false
   },
   "outputs": [],
   "source": [
    "for k, idx in gs.items():\n",
    "    cid = to_concept_id(k)\n",
    "    df = data_.ix[idx].copy()\n",
    "    df = df.drop('Element', axis=1)\n",
    "    df.columns = ['country', 'item', 'year', cid]\n",
    "    \n",
    "    path = '../ddf--datapoints--{}--by--country--item--year.csv'.format(cid)\n",
    "    df.to_csv(path, index=False)"
   ]
  },
  {
   "cell_type": "code",
   "execution_count": null,
   "metadata": {
    "collapsed": true
   },
   "outputs": [],
   "source": []
  },
  {
   "cell_type": "code",
   "execution_count": null,
   "metadata": {
    "collapsed": true
   },
   "outputs": [],
   "source": []
  },
  {
   "cell_type": "code",
   "execution_count": 84,
   "metadata": {
    "collapsed": false
   },
   "outputs": [
    {
     "data": {
      "text/html": [
       "<div>\n",
       "<table border=\"1\" class=\"dataframe\">\n",
       "  <thead>\n",
       "    <tr style=\"text-align: right;\">\n",
       "      <th></th>\n",
       "      <th>key</th>\n",
       "      <th>value</th>\n",
       "      <th>file</th>\n",
       "    </tr>\n",
       "  </thead>\n",
       "  <tbody>\n",
       "    <tr>\n",
       "      <th>0</th>\n",
       "      <td>concept</td>\n",
       "      <td>name</td>\n",
       "      <td>ddf--concepts.csv</td>\n",
       "    </tr>\n",
       "    <tr>\n",
       "      <th>1</th>\n",
       "      <td>concept</td>\n",
       "      <td>concept_type</td>\n",
       "      <td>ddf--concepts.csv</td>\n",
       "    </tr>\n",
       "    <tr>\n",
       "      <th>0</th>\n",
       "      <td>country,item,year</td>\n",
       "      <td>domestic_supply_quantity</td>\n",
       "      <td>ddf--datapoints--domestic_supply_quantity--by-...</td>\n",
       "    </tr>\n",
       "    <tr>\n",
       "      <th>0</th>\n",
       "      <td>country,item,year</td>\n",
       "      <td>export_quantity</td>\n",
       "      <td>ddf--datapoints--export_quantity--by--country-...</td>\n",
       "    </tr>\n",
       "    <tr>\n",
       "      <th>0</th>\n",
       "      <td>country,item,year</td>\n",
       "      <td>fat_supply_quantity_g_capita_day</td>\n",
       "      <td>ddf--datapoints--fat_supply_quantity_g_capita_...</td>\n",
       "    </tr>\n",
       "    <tr>\n",
       "      <th>0</th>\n",
       "      <td>country,item,year</td>\n",
       "      <td>feed</td>\n",
       "      <td>ddf--datapoints--feed--by--country--item--year...</td>\n",
       "    </tr>\n",
       "    <tr>\n",
       "      <th>0</th>\n",
       "      <td>country,item,year</td>\n",
       "      <td>food</td>\n",
       "      <td>ddf--datapoints--food--by--country--item--year...</td>\n",
       "    </tr>\n",
       "    <tr>\n",
       "      <th>0</th>\n",
       "      <td>country,item,year</td>\n",
       "      <td>food_supply_kcal_capita_day</td>\n",
       "      <td>ddf--datapoints--food_supply_kcal_capita_day--...</td>\n",
       "    </tr>\n",
       "    <tr>\n",
       "      <th>0</th>\n",
       "      <td>country,item,year</td>\n",
       "      <td>food_supply_quantity_kg_capita_yr</td>\n",
       "      <td>ddf--datapoints--food_supply_quantity_kg_capit...</td>\n",
       "    </tr>\n",
       "    <tr>\n",
       "      <th>0</th>\n",
       "      <td>country,item,year</td>\n",
       "      <td>import_quantity</td>\n",
       "      <td>ddf--datapoints--import_quantity--by--country-...</td>\n",
       "    </tr>\n",
       "    <tr>\n",
       "      <th>0</th>\n",
       "      <td>country,item,year</td>\n",
       "      <td>other_uses</td>\n",
       "      <td>ddf--datapoints--other_uses--by--country--item...</td>\n",
       "    </tr>\n",
       "    <tr>\n",
       "      <th>0</th>\n",
       "      <td>country,item,year</td>\n",
       "      <td>processing</td>\n",
       "      <td>ddf--datapoints--processing--by--country--item...</td>\n",
       "    </tr>\n",
       "    <tr>\n",
       "      <th>0</th>\n",
       "      <td>country,item,year</td>\n",
       "      <td>production</td>\n",
       "      <td>ddf--datapoints--production--by--country--item...</td>\n",
       "    </tr>\n",
       "    <tr>\n",
       "      <th>0</th>\n",
       "      <td>country,item,year</td>\n",
       "      <td>protein_supply_quantity_g_capita_day</td>\n",
       "      <td>ddf--datapoints--protein_supply_quantity_g_cap...</td>\n",
       "    </tr>\n",
       "    <tr>\n",
       "      <th>0</th>\n",
       "      <td>country,item,year</td>\n",
       "      <td>seed</td>\n",
       "      <td>ddf--datapoints--seed--by--country--item--year...</td>\n",
       "    </tr>\n",
       "    <tr>\n",
       "      <th>0</th>\n",
       "      <td>country,item,year</td>\n",
       "      <td>stock_variation</td>\n",
       "      <td>ddf--datapoints--stock_variation--by--country-...</td>\n",
       "    </tr>\n",
       "    <tr>\n",
       "      <th>0</th>\n",
       "      <td>country,item,year</td>\n",
       "      <td>total_population_both_sexes</td>\n",
       "      <td>ddf--datapoints--total_population_both_sexes--...</td>\n",
       "    </tr>\n",
       "    <tr>\n",
       "      <th>0</th>\n",
       "      <td>country,item,year</td>\n",
       "      <td>waste</td>\n",
       "      <td>ddf--datapoints--waste--by--country--item--yea...</td>\n",
       "    </tr>\n",
       "    <tr>\n",
       "      <th>0</th>\n",
       "      <td>country</td>\n",
       "      <td>name</td>\n",
       "      <td>ddf--entities--country.csv</td>\n",
       "    </tr>\n",
       "    <tr>\n",
       "      <th>0</th>\n",
       "      <td>item</td>\n",
       "      <td>name</td>\n",
       "      <td>ddf--entities--item.csv</td>\n",
       "    </tr>\n",
       "  </tbody>\n",
       "</table>\n",
       "</div>"
      ],
      "text/plain": [
       "                 key                                 value  \\\n",
       "0            concept                                  name   \n",
       "1            concept                          concept_type   \n",
       "0  country,item,year              domestic_supply_quantity   \n",
       "0  country,item,year                       export_quantity   \n",
       "0  country,item,year      fat_supply_quantity_g_capita_day   \n",
       "0  country,item,year                                  feed   \n",
       "0  country,item,year                                  food   \n",
       "0  country,item,year           food_supply_kcal_capita_day   \n",
       "0  country,item,year     food_supply_quantity_kg_capita_yr   \n",
       "0  country,item,year                       import_quantity   \n",
       "0  country,item,year                            other_uses   \n",
       "0  country,item,year                            processing   \n",
       "0  country,item,year                            production   \n",
       "0  country,item,year  protein_supply_quantity_g_capita_day   \n",
       "0  country,item,year                                  seed   \n",
       "0  country,item,year                       stock_variation   \n",
       "0  country,item,year           total_population_both_sexes   \n",
       "0  country,item,year                                 waste   \n",
       "0            country                                  name   \n",
       "0               item                                  name   \n",
       "\n",
       "                                                file  \n",
       "0                                  ddf--concepts.csv  \n",
       "1                                  ddf--concepts.csv  \n",
       "0  ddf--datapoints--domestic_supply_quantity--by-...  \n",
       "0  ddf--datapoints--export_quantity--by--country-...  \n",
       "0  ddf--datapoints--fat_supply_quantity_g_capita_...  \n",
       "0  ddf--datapoints--feed--by--country--item--year...  \n",
       "0  ddf--datapoints--food--by--country--item--year...  \n",
       "0  ddf--datapoints--food_supply_kcal_capita_day--...  \n",
       "0  ddf--datapoints--food_supply_quantity_kg_capit...  \n",
       "0  ddf--datapoints--import_quantity--by--country-...  \n",
       "0  ddf--datapoints--other_uses--by--country--item...  \n",
       "0  ddf--datapoints--processing--by--country--item...  \n",
       "0  ddf--datapoints--production--by--country--item...  \n",
       "0  ddf--datapoints--protein_supply_quantity_g_cap...  \n",
       "0  ddf--datapoints--seed--by--country--item--year...  \n",
       "0  ddf--datapoints--stock_variation--by--country-...  \n",
       "0  ddf--datapoints--total_population_both_sexes--...  \n",
       "0  ddf--datapoints--waste--by--country--item--yea...  \n",
       "0                         ddf--entities--country.csv  \n",
       "0                            ddf--entities--item.csv  "
      ]
     },
     "execution_count": 84,
     "metadata": {},
     "output_type": "execute_result"
    }
   ],
   "source": [
    "create_index_file('../')"
   ]
  },
  {
   "cell_type": "code",
   "execution_count": null,
   "metadata": {
    "collapsed": true
   },
   "outputs": [],
   "source": []
  },
  {
   "cell_type": "code",
   "execution_count": null,
   "metadata": {
    "collapsed": true
   },
   "outputs": [],
   "source": []
  },
  {
   "cell_type": "code",
   "execution_count": 17,
   "metadata": {
    "collapsed": true
   },
   "outputs": [],
   "source": [
    "import ddf_utils.ddf_reader as ddf"
   ]
  },
  {
   "cell_type": "code",
   "execution_count": 18,
   "metadata": {
    "collapsed": true
   },
   "outputs": [],
   "source": [
    "ddf.SEARCH_PATH = '../../'"
   ]
  },
  {
   "cell_type": "code",
   "execution_count": 19,
   "metadata": {
    "collapsed": false
   },
   "outputs": [
    {
     "data": {
      "text/html": [
       "<div>\n",
       "<table border=\"1\" class=\"dataframe\">\n",
       "  <thead>\n",
       "    <tr style=\"text-align: right;\">\n",
       "      <th></th>\n",
       "      <th>food_supply_kilocalories_per_person_and_day</th>\n",
       "      <th>geo</th>\n",
       "      <th>time</th>\n",
       "    </tr>\n",
       "  </thead>\n",
       "  <tbody>\n",
       "    <tr>\n",
       "      <th>0</th>\n",
       "      <td>2234</td>\n",
       "      <td>alb</td>\n",
       "      <td>1961</td>\n",
       "    </tr>\n",
       "    <tr>\n",
       "      <th>1</th>\n",
       "      <td>2248</td>\n",
       "      <td>alb</td>\n",
       "      <td>1962</td>\n",
       "    </tr>\n",
       "    <tr>\n",
       "      <th>2</th>\n",
       "      <td>2163</td>\n",
       "      <td>alb</td>\n",
       "      <td>1963</td>\n",
       "    </tr>\n",
       "    <tr>\n",
       "      <th>3</th>\n",
       "      <td>2276</td>\n",
       "      <td>alb</td>\n",
       "      <td>1964</td>\n",
       "    </tr>\n",
       "    <tr>\n",
       "      <th>4</th>\n",
       "      <td>2258</td>\n",
       "      <td>alb</td>\n",
       "      <td>1965</td>\n",
       "    </tr>\n",
       "    <tr>\n",
       "      <th>5</th>\n",
       "      <td>2259</td>\n",
       "      <td>alb</td>\n",
       "      <td>1966</td>\n",
       "    </tr>\n",
       "    <tr>\n",
       "      <th>6</th>\n",
       "      <td>2266</td>\n",
       "      <td>alb</td>\n",
       "      <td>1967</td>\n",
       "    </tr>\n",
       "    <tr>\n",
       "      <th>7</th>\n",
       "      <td>2346</td>\n",
       "      <td>alb</td>\n",
       "      <td>1968</td>\n",
       "    </tr>\n",
       "    <tr>\n",
       "      <th>8</th>\n",
       "      <td>2408</td>\n",
       "      <td>alb</td>\n",
       "      <td>1969</td>\n",
       "    </tr>\n",
       "    <tr>\n",
       "      <th>9</th>\n",
       "      <td>2419</td>\n",
       "      <td>alb</td>\n",
       "      <td>1970</td>\n",
       "    </tr>\n",
       "    <tr>\n",
       "      <th>10</th>\n",
       "      <td>2366</td>\n",
       "      <td>alb</td>\n",
       "      <td>1971</td>\n",
       "    </tr>\n",
       "    <tr>\n",
       "      <th>11</th>\n",
       "      <td>2395</td>\n",
       "      <td>alb</td>\n",
       "      <td>1972</td>\n",
       "    </tr>\n",
       "    <tr>\n",
       "      <th>12</th>\n",
       "      <td>2445</td>\n",
       "      <td>alb</td>\n",
       "      <td>1973</td>\n",
       "    </tr>\n",
       "    <tr>\n",
       "      <th>13</th>\n",
       "      <td>2513</td>\n",
       "      <td>alb</td>\n",
       "      <td>1974</td>\n",
       "    </tr>\n",
       "    <tr>\n",
       "      <th>14</th>\n",
       "      <td>2522</td>\n",
       "      <td>alb</td>\n",
       "      <td>1975</td>\n",
       "    </tr>\n",
       "    <tr>\n",
       "      <th>15</th>\n",
       "      <td>2716</td>\n",
       "      <td>alb</td>\n",
       "      <td>1976</td>\n",
       "    </tr>\n",
       "    <tr>\n",
       "      <th>16</th>\n",
       "      <td>2819</td>\n",
       "      <td>alb</td>\n",
       "      <td>1977</td>\n",
       "    </tr>\n",
       "    <tr>\n",
       "      <th>17</th>\n",
       "      <td>2737</td>\n",
       "      <td>alb</td>\n",
       "      <td>1978</td>\n",
       "    </tr>\n",
       "    <tr>\n",
       "      <th>18</th>\n",
       "      <td>2660</td>\n",
       "      <td>alb</td>\n",
       "      <td>1979</td>\n",
       "    </tr>\n",
       "    <tr>\n",
       "      <th>19</th>\n",
       "      <td>2660</td>\n",
       "      <td>alb</td>\n",
       "      <td>1980</td>\n",
       "    </tr>\n",
       "    <tr>\n",
       "      <th>20</th>\n",
       "      <td>2748</td>\n",
       "      <td>alb</td>\n",
       "      <td>1981</td>\n",
       "    </tr>\n",
       "    <tr>\n",
       "      <th>21</th>\n",
       "      <td>2692</td>\n",
       "      <td>alb</td>\n",
       "      <td>1982</td>\n",
       "    </tr>\n",
       "    <tr>\n",
       "      <th>22</th>\n",
       "      <td>2841</td>\n",
       "      <td>alb</td>\n",
       "      <td>1983</td>\n",
       "    </tr>\n",
       "    <tr>\n",
       "      <th>23</th>\n",
       "      <td>2759</td>\n",
       "      <td>alb</td>\n",
       "      <td>1984</td>\n",
       "    </tr>\n",
       "    <tr>\n",
       "      <th>24</th>\n",
       "      <td>2608</td>\n",
       "      <td>alb</td>\n",
       "      <td>1985</td>\n",
       "    </tr>\n",
       "    <tr>\n",
       "      <th>25</th>\n",
       "      <td>2739</td>\n",
       "      <td>alb</td>\n",
       "      <td>1986</td>\n",
       "    </tr>\n",
       "    <tr>\n",
       "      <th>26</th>\n",
       "      <td>2552</td>\n",
       "      <td>alb</td>\n",
       "      <td>1987</td>\n",
       "    </tr>\n",
       "    <tr>\n",
       "      <th>27</th>\n",
       "      <td>2647</td>\n",
       "      <td>alb</td>\n",
       "      <td>1988</td>\n",
       "    </tr>\n",
       "    <tr>\n",
       "      <th>28</th>\n",
       "      <td>2630</td>\n",
       "      <td>alb</td>\n",
       "      <td>1989</td>\n",
       "    </tr>\n",
       "    <tr>\n",
       "      <th>29</th>\n",
       "      <td>2656</td>\n",
       "      <td>alb</td>\n",
       "      <td>1990</td>\n",
       "    </tr>\n",
       "    <tr>\n",
       "      <th>...</th>\n",
       "      <td>...</td>\n",
       "      <td>...</td>\n",
       "      <td>...</td>\n",
       "    </tr>\n",
       "    <tr>\n",
       "      <th>7517</th>\n",
       "      <td>2278</td>\n",
       "      <td>zwe</td>\n",
       "      <td>1978</td>\n",
       "    </tr>\n",
       "    <tr>\n",
       "      <th>7518</th>\n",
       "      <td>2249</td>\n",
       "      <td>zwe</td>\n",
       "      <td>1979</td>\n",
       "    </tr>\n",
       "    <tr>\n",
       "      <th>7519</th>\n",
       "      <td>2290</td>\n",
       "      <td>zwe</td>\n",
       "      <td>1980</td>\n",
       "    </tr>\n",
       "    <tr>\n",
       "      <th>7520</th>\n",
       "      <td>2217</td>\n",
       "      <td>zwe</td>\n",
       "      <td>1981</td>\n",
       "    </tr>\n",
       "    <tr>\n",
       "      <th>7521</th>\n",
       "      <td>2223</td>\n",
       "      <td>zwe</td>\n",
       "      <td>1982</td>\n",
       "    </tr>\n",
       "    <tr>\n",
       "      <th>7522</th>\n",
       "      <td>2183</td>\n",
       "      <td>zwe</td>\n",
       "      <td>1983</td>\n",
       "    </tr>\n",
       "    <tr>\n",
       "      <th>7523</th>\n",
       "      <td>2132</td>\n",
       "      <td>zwe</td>\n",
       "      <td>1984</td>\n",
       "    </tr>\n",
       "    <tr>\n",
       "      <th>7524</th>\n",
       "      <td>2086</td>\n",
       "      <td>zwe</td>\n",
       "      <td>1985</td>\n",
       "    </tr>\n",
       "    <tr>\n",
       "      <th>7525</th>\n",
       "      <td>2054</td>\n",
       "      <td>zwe</td>\n",
       "      <td>1986</td>\n",
       "    </tr>\n",
       "    <tr>\n",
       "      <th>7526</th>\n",
       "      <td>2015</td>\n",
       "      <td>zwe</td>\n",
       "      <td>1987</td>\n",
       "    </tr>\n",
       "    <tr>\n",
       "      <th>7527</th>\n",
       "      <td>2049</td>\n",
       "      <td>zwe</td>\n",
       "      <td>1988</td>\n",
       "    </tr>\n",
       "    <tr>\n",
       "      <th>7528</th>\n",
       "      <td>2048</td>\n",
       "      <td>zwe</td>\n",
       "      <td>1989</td>\n",
       "    </tr>\n",
       "    <tr>\n",
       "      <th>7529</th>\n",
       "      <td>2022</td>\n",
       "      <td>zwe</td>\n",
       "      <td>1990</td>\n",
       "    </tr>\n",
       "    <tr>\n",
       "      <th>7530</th>\n",
       "      <td>1981</td>\n",
       "      <td>zwe</td>\n",
       "      <td>1991</td>\n",
       "    </tr>\n",
       "    <tr>\n",
       "      <th>7531</th>\n",
       "      <td>1947</td>\n",
       "      <td>zwe</td>\n",
       "      <td>1992</td>\n",
       "    </tr>\n",
       "    <tr>\n",
       "      <th>7532</th>\n",
       "      <td>1924</td>\n",
       "      <td>zwe</td>\n",
       "      <td>1993</td>\n",
       "    </tr>\n",
       "    <tr>\n",
       "      <th>7533</th>\n",
       "      <td>1941</td>\n",
       "      <td>zwe</td>\n",
       "      <td>1994</td>\n",
       "    </tr>\n",
       "    <tr>\n",
       "      <th>7534</th>\n",
       "      <td>1913</td>\n",
       "      <td>zwe</td>\n",
       "      <td>1995</td>\n",
       "    </tr>\n",
       "    <tr>\n",
       "      <th>7535</th>\n",
       "      <td>1944</td>\n",
       "      <td>zwe</td>\n",
       "      <td>1996</td>\n",
       "    </tr>\n",
       "    <tr>\n",
       "      <th>7536</th>\n",
       "      <td>1966</td>\n",
       "      <td>zwe</td>\n",
       "      <td>1997</td>\n",
       "    </tr>\n",
       "    <tr>\n",
       "      <th>7537</th>\n",
       "      <td>1972</td>\n",
       "      <td>zwe</td>\n",
       "      <td>1998</td>\n",
       "    </tr>\n",
       "    <tr>\n",
       "      <th>7538</th>\n",
       "      <td>1953</td>\n",
       "      <td>zwe</td>\n",
       "      <td>1999</td>\n",
       "    </tr>\n",
       "    <tr>\n",
       "      <th>7539</th>\n",
       "      <td>1960</td>\n",
       "      <td>zwe</td>\n",
       "      <td>2000</td>\n",
       "    </tr>\n",
       "    <tr>\n",
       "      <th>7540</th>\n",
       "      <td>2009</td>\n",
       "      <td>zwe</td>\n",
       "      <td>2001</td>\n",
       "    </tr>\n",
       "    <tr>\n",
       "      <th>7541</th>\n",
       "      <td>2073</td>\n",
       "      <td>zwe</td>\n",
       "      <td>2002</td>\n",
       "    </tr>\n",
       "    <tr>\n",
       "      <th>7542</th>\n",
       "      <td>2107</td>\n",
       "      <td>zwe</td>\n",
       "      <td>2003</td>\n",
       "    </tr>\n",
       "    <tr>\n",
       "      <th>7543</th>\n",
       "      <td>2135</td>\n",
       "      <td>zwe</td>\n",
       "      <td>2004</td>\n",
       "    </tr>\n",
       "    <tr>\n",
       "      <th>7544</th>\n",
       "      <td>2170</td>\n",
       "      <td>zwe</td>\n",
       "      <td>2005</td>\n",
       "    </tr>\n",
       "    <tr>\n",
       "      <th>7545</th>\n",
       "      <td>2214</td>\n",
       "      <td>zwe</td>\n",
       "      <td>2006</td>\n",
       "    </tr>\n",
       "    <tr>\n",
       "      <th>7546</th>\n",
       "      <td>2238</td>\n",
       "      <td>zwe</td>\n",
       "      <td>2007</td>\n",
       "    </tr>\n",
       "  </tbody>\n",
       "</table>\n",
       "<p>7547 rows × 3 columns</p>\n",
       "</div>"
      ],
      "text/plain": [
       "      food_supply_kilocalories_per_person_and_day  geo  time\n",
       "0                                            2234  alb  1961\n",
       "1                                            2248  alb  1962\n",
       "2                                            2163  alb  1963\n",
       "3                                            2276  alb  1964\n",
       "4                                            2258  alb  1965\n",
       "5                                            2259  alb  1966\n",
       "6                                            2266  alb  1967\n",
       "7                                            2346  alb  1968\n",
       "8                                            2408  alb  1969\n",
       "9                                            2419  alb  1970\n",
       "10                                           2366  alb  1971\n",
       "11                                           2395  alb  1972\n",
       "12                                           2445  alb  1973\n",
       "13                                           2513  alb  1974\n",
       "14                                           2522  alb  1975\n",
       "15                                           2716  alb  1976\n",
       "16                                           2819  alb  1977\n",
       "17                                           2737  alb  1978\n",
       "18                                           2660  alb  1979\n",
       "19                                           2660  alb  1980\n",
       "20                                           2748  alb  1981\n",
       "21                                           2692  alb  1982\n",
       "22                                           2841  alb  1983\n",
       "23                                           2759  alb  1984\n",
       "24                                           2608  alb  1985\n",
       "25                                           2739  alb  1986\n",
       "26                                           2552  alb  1987\n",
       "27                                           2647  alb  1988\n",
       "28                                           2630  alb  1989\n",
       "29                                           2656  alb  1990\n",
       "...                                           ...  ...   ...\n",
       "7517                                         2278  zwe  1978\n",
       "7518                                         2249  zwe  1979\n",
       "7519                                         2290  zwe  1980\n",
       "7520                                         2217  zwe  1981\n",
       "7521                                         2223  zwe  1982\n",
       "7522                                         2183  zwe  1983\n",
       "7523                                         2132  zwe  1984\n",
       "7524                                         2086  zwe  1985\n",
       "7525                                         2054  zwe  1986\n",
       "7526                                         2015  zwe  1987\n",
       "7527                                         2049  zwe  1988\n",
       "7528                                         2048  zwe  1989\n",
       "7529                                         2022  zwe  1990\n",
       "7530                                         1981  zwe  1991\n",
       "7531                                         1947  zwe  1992\n",
       "7532                                         1924  zwe  1993\n",
       "7533                                         1941  zwe  1994\n",
       "7534                                         1913  zwe  1995\n",
       "7535                                         1944  zwe  1996\n",
       "7536                                         1966  zwe  1997\n",
       "7537                                         1972  zwe  1998\n",
       "7538                                         1953  zwe  1999\n",
       "7539                                         1960  zwe  2000\n",
       "7540                                         2009  zwe  2001\n",
       "7541                                         2073  zwe  2002\n",
       "7542                                         2107  zwe  2003\n",
       "7543                                         2135  zwe  2004\n",
       "7544                                         2170  zwe  2005\n",
       "7545                                         2214  zwe  2006\n",
       "7546                                         2238  zwe  2007\n",
       "\n",
       "[7547 rows x 3 columns]"
      ]
     },
     "execution_count": 19,
     "metadata": {},
     "output_type": "execute_result"
    }
   ],
   "source": [
    "ddf.ddf_datapoint('ddf--gapminder--gapminder_world', 'food_supply_kilocalories_per_person_and_day')\\\n",
    ".query('geo == \"afg\"')"
   ]
  },
  {
   "cell_type": "code",
   "execution_count": null,
   "metadata": {
    "collapsed": true
   },
   "outputs": [],
   "source": []
  }
 ],
 "metadata": {
  "kernelspec": {
   "display_name": "Python 3",
   "language": "python",
   "name": "python3"
  },
  "language_info": {
   "codemirror_mode": {
    "name": "ipython",
    "version": 3
   },
   "file_extension": ".py",
   "mimetype": "text/x-python",
   "name": "python",
   "nbconvert_exporter": "python",
   "pygments_lexer": "ipython3",
   "version": "3.5.1"
  }
 },
 "nbformat": 4,
 "nbformat_minor": 0
}
